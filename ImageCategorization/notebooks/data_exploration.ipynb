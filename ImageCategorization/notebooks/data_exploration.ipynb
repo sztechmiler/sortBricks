{
 "cells": [
  {
   "cell_type": "code",
   "execution_count": 1,
   "id": "f7cdde7f-e150-4175-9c64-a97b1167fedf",
   "metadata": {},
   "outputs": [
    {
     "name": "stdout",
     "output_type": "stream",
     "text": [
      "Hello world from Jupyter\n"
     ]
    }
   ],
   "source": [
    "print(\"Hello world from Jupyter\")"
   ]
  },
  {
   "cell_type": "code",
   "execution_count": null,
   "id": "7c2a6068-b777-460a-9f22-e903f273daa4",
   "metadata": {},
   "outputs": [],
   "source": []
  }
 ],
 "metadata": {
  "kernelspec": {
   "display_name": "Python 3 (ipykernel)",
   "language": "python",
   "name": "python3"
  },
  "language_info": {
   "codemirror_mode": {
    "name": "ipython",
    "version": 3
   },
   "file_extension": ".py",
   "mimetype": "text/x-python",
   "name": "python",
   "nbconvert_exporter": "python",
   "pygments_lexer": "ipython3",
   "version": "3.10.6"
  }
 },
 "nbformat": 4,
 "nbformat_minor": 5
}
